{
 "cells": [
  {
   "cell_type": "code",
   "execution_count": null,
   "metadata": {},
   "outputs": [],
   "source": []
  },
  {
   "cell_type": "code",
   "execution_count": 1,
   "metadata": {},
   "outputs": [],
   "source": [
    "\n",
    "#Primer paso que se realizo fue importar todas las librerias que vamos a utilizar\n",
    "import pandas as pd\n",
    "import json\n",
    "import re\n",
    "from fastapi import FastAPI\n",
    "from datetime import datetime"
   ]
  },
  {
   "cell_type": "code",
   "execution_count": 3,
   "metadata": {},
   "outputs": [],
   "source": [
    "df=pd.read_csv(r\"C:\\Users\\Equipo\\Downloads\\credits.csv\")\n"
   ]
  },
  {
   "cell_type": "code",
   "execution_count": 4,
   "metadata": {},
   "outputs": [
    {
     "name": "stderr",
     "output_type": "stream",
     "text": [
      "C:\\Users\\Equipo\\AppData\\Local\\Temp\\ipykernel_4796\\705048831.py:1: DtypeWarning: Columns (10) have mixed types. Specify dtype option on import or set low_memory=False.\n",
      "  df2=pd.read_csv(r\"C:\\Users\\Equipo\\Downloads\\movies_dataset (1).csv\")\n"
     ]
    }
   ],
   "source": [
    "df2=pd.read_csv(r\"C:\\Users\\Equipo\\Downloads\\movies_dataset (1).csv\")"
   ]
  },
  {
   "cell_type": "code",
   "execution_count": 2,
   "metadata": {},
   "outputs": [],
   "source": [
    "#Se crea la funcion para desanidar.\n",
    "class desanidar:\n",
    "    @staticmethod\n",
    "    def convertir_a_str(valor):\n",
    "        if isinstance(valor, (list, dict)):\n",
    "            return json.dumps(valor)\n",
    "        return str(valor)\n",
    "    @staticmethod\n",
    "    def extraer_nombres(valor):\n",
    "        pattern = r\"'name': '([^']*)'\"\n",
    "        coincidencias = re.findall(pattern, valor)\n",
    "        if len(coincidencias) > 0:\n",
    "            nombre = coincidencias[0]\n",
    "            return nombre\n",
    "        else:\n",
    "            return None"
   ]
  },
  {
   "cell_type": "code",
   "execution_count": 7,
   "metadata": {},
   "outputs": [],
   "source": [
    "#Segundo paso para desanidar (Son varios)\n",
    "df2['belongs_to_collection'] = df2['belongs_to_collection'].apply(desanidar.convertir_a_str).apply(desanidar.extraer_nombres)"
   ]
  },
  {
   "cell_type": "code",
   "execution_count": 8,
   "metadata": {},
   "outputs": [],
   "source": [
    "df2['genres'] = df2['genres'].apply(desanidar.convertir_a_str).apply(desanidar.extraer_nombres)"
   ]
  },
  {
   "cell_type": "code",
   "execution_count": 11,
   "metadata": {},
   "outputs": [],
   "source": [
    "df2['production_companies'] = df2['production_companies'].apply(desanidar.convertir_a_str).apply(desanidar.extraer_nombres)"
   ]
  },
  {
   "cell_type": "code",
   "execution_count": 10,
   "metadata": {},
   "outputs": [],
   "source": [
    "df2['production_countries'] = df2['production_countries'].apply(desanidar.convertir_a_str).apply(desanidar.extraer_nombres)"
   ]
  },
  {
   "cell_type": "code",
   "execution_count": 9,
   "metadata": {},
   "outputs": [],
   "source": [
    "df2['spoken_languages'] = df2['spoken_languages'].apply(desanidar.convertir_a_str).apply(desanidar.extraer_nombres)"
   ]
  },
  {
   "cell_type": "code",
   "execution_count": 13,
   "metadata": {},
   "outputs": [],
   "source": [
    "df['cast'] = df['cast'].apply(desanidar.convertir_a_str).apply(desanidar.extraer_nombres)"
   ]
  },
  {
   "cell_type": "code",
   "execution_count": 14,
   "metadata": {},
   "outputs": [],
   "source": [
    "df['crew'] = df['crew'].apply(desanidar.convertir_a_str).apply(desanidar.extraer_nombres)"
   ]
  },
  {
   "cell_type": "code",
   "execution_count": null,
   "metadata": {},
   "outputs": [],
   "source": [
    "df.head(5)"
   ]
  },
  {
   "cell_type": "code",
   "execution_count": null,
   "metadata": {},
   "outputs": [],
   "source": [
    "df2.head(3)"
   ]
  },
  {
   "cell_type": "code",
   "execution_count": 19,
   "metadata": {},
   "outputs": [],
   "source": [
    "#Se borran las columnas que no sirven a futuro\n",
    "df2 = df2.dropna(subset=['release_date'])\n",
    "columnas_a_eliminar = ['video', 'imdb_id', 'adult', 'original_title', 'poster_path', 'homepage']\n",
    "df2 = df2.drop(columns=columnas_a_eliminar)"
   ]
  },
  {
   "cell_type": "code",
   "execution_count": 23,
   "metadata": {},
   "outputs": [],
   "source": [
    "# Convertir las columnas 'budget' y 'revenue' a tipo numérico\n",
    "df2['budget'] = pd.to_numeric(df2['budget'], errors='coerce')\n",
    "df2['revenue'] = pd.to_numeric(df2['revenue'], errors='coerce')\n",
    "\n",
    "# Calcular el retorno de inversión y asignar el valor 0 cuando no haya datos disponibles\n",
    "df2['return'] = df2['revenue'].div(df2['budget'], fill_value=0)"
   ]
  },
  {
   "cell_type": "code",
   "execution_count": 24,
   "metadata": {},
   "outputs": [],
   "source": [
    "#Cambio a numerico el tipo de datos de la columna ID\n",
    "df2['id'] = pd.to_numeric(df2['id'], errors='coerce')"
   ]
  },
  {
   "cell_type": "code",
   "execution_count": null,
   "metadata": {},
   "outputs": [],
   "source": [
    "#Observo cuales son las columnas sin ID\n",
    "df2[df2['id'].isnull()]"
   ]
  },
  {
   "cell_type": "code",
   "execution_count": 26,
   "metadata": {},
   "outputs": [],
   "source": [
    "#Dado que solo son 3, decido eliminarlas\n",
    "df2 = df2.dropna(subset=['id'])"
   ]
  },
  {
   "cell_type": "code",
   "execution_count": 27,
   "metadata": {},
   "outputs": [],
   "source": [
    "#Cambio el tipo de dato de float a int de la columna, para que coincida en ambos df\n",
    "df2['id'] = df2['id'].astype(int)"
   ]
  },
  {
   "cell_type": "code",
   "execution_count": 29,
   "metadata": {},
   "outputs": [],
   "source": [
    "#Realizo un merge entre los dos datasets que tenemos\n",
    "df_final= pd.merge(df2, df, on='id')"
   ]
  },
  {
   "cell_type": "code",
   "execution_count": 30,
   "metadata": {},
   "outputs": [],
   "source": [
    "#Se renombra las columnas necesarias\n",
    "df_final.rename(columns={'crew':'director'}, inplace=True)\n",
    "df_final.rename(columns={'cast':'actors'}, inplace=True)\n",
    "df_final.rename(columns={'release_date':'release_year'}, inplace=True)"
   ]
  },
  {
   "cell_type": "code",
   "execution_count": 31,
   "metadata": {},
   "outputs": [],
   "source": [
    "#Borre la columna belongs_to_collection\n",
    "df_final.drop('belongs_to_collection', axis=1, inplace=True)"
   ]
  },
  {
   "cell_type": "code",
   "execution_count": 34,
   "metadata": {},
   "outputs": [],
   "source": [
    "#Guardado de precaución\n",
    "df_final.to_csv('Csv_Proyecto_Terminado2.csv', index=False)"
   ]
  },
  {
   "cell_type": "code",
   "execution_count": null,
   "metadata": {},
   "outputs": [],
   "source": [
    "# Agregar una nueva columna \"año\" con el año extraído de \"release_year\"\n",
    "for index, row in df.iterrows():\n",
    "    fecha_completa = row[\"release_year\"]\n",
    "    año = fecha_completa.split(\"-\")[0]\n",
    "    df.at[index, \"anio\"] = int(año)"
   ]
  },
  {
   "cell_type": "code",
   "execution_count": 5,
   "metadata": {},
   "outputs": [],
   "source": [
    "#Guardado de precaución\n",
    "df.to_csv('Csv_Proyecto_Terminado.csv', index=False)"
   ]
  }
 ],
 "metadata": {
  "kernelspec": {
   "display_name": "Python 3",
   "language": "python",
   "name": "python3"
  },
  "language_info": {
   "codemirror_mode": {
    "name": "ipython",
    "version": 3
   },
   "file_extension": ".py",
   "mimetype": "text/x-python",
   "name": "python",
   "nbconvert_exporter": "python",
   "pygments_lexer": "ipython3",
   "version": "3.10.4"
  },
  "orig_nbformat": 4
 },
 "nbformat": 4,
 "nbformat_minor": 2
}
