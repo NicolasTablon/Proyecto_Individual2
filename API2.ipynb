{
 "cells": [
  {
   "cell_type": "code",
   "execution_count": 3,
   "metadata": {},
   "outputs": [],
   "source": [
    "#Primer paso que se realizo fue importar todas las librerias que vamos a utilizar\n",
    "import pandas as pd\n",
    "import json\n",
    "import re\n",
    "from fastapi import FastAPI\n",
    "from datetime import datetime"
   ]
  },
  {
   "cell_type": "code",
   "execution_count": 7,
   "metadata": {},
   "outputs": [],
   "source": [
    "df=pd.read_csv(r\"C:\\Users\\Equipo\\OneDrive\\Escritorio\\ProyectoIndividual\\Csv_Proyecto_Terminado.csv\")"
   ]
  },
  {
   "cell_type": "code",
   "execution_count": 5,
   "metadata": {},
   "outputs": [],
   "source": [
    "# Agregar una nueva columna \"año\" con el año extraído de \"release_year\"\n",
    "for index, row in df.iterrows():\n",
    "    fecha_completa = row[\"release_year\"]\n",
    "    año = fecha_completa.split(\"-\")[0]\n",
    "    df.at[index, \"anio\"] = int(año)"
   ]
  },
  {
   "cell_type": "code",
   "execution_count": 4,
   "metadata": {},
   "outputs": [],
   "source": [
    "# Crear una instancia de FastAPI\n",
    "app = FastAPI()"
   ]
  },
  {
   "cell_type": "code",
   "execution_count": 20,
   "metadata": {},
   "outputs": [],
   "source": [
    "@app.get('/peliculas_duracion')\n",
    "def peliculas_duracion(pelicula: str):\n",
    "    pelicula_encontrada = df[df[\"title\"] == pelicula]\n",
    "    if not pelicula_encontrada.empty:\n",
    "        duracion = pelicula_encontrada[\"runtime\"].values[0]\n",
    "        año = pelicula_encontrada[\"anio\"].values[0]\n",
    "        return f\"{pelicula}. Duración: {duracion}. Año: {año}\"\n",
    "    else:\n",
    "        return \"Película no encontrada\""
   ]
  },
  {
   "cell_type": "code",
   "execution_count": 51,
   "metadata": {},
   "outputs": [],
   "source": [
    "import ast\n",
    "\n",
    "@app.get('/franquicia')\n",
    "def franquicia(franquicia: str):\n",
    "    df['production_companies'] = df['production_companies'].apply(ast.literal_eval)\n",
    "    peliculas_franquicia = df.loc[df['production_companies'].apply(lambda x: franquicia in x)]\n",
    "    cantidad_peliculas = len(peliculas_franquicia)\n",
    "    ganancia_total = peliculas_franquicia['revenue'].sum()\n",
    "    ganancia_promedio = ganancia_total / cantidad_peliculas if cantidad_peliculas > 0 else 0\n",
    "    return f\"La franquicia {franquicia} posee {cantidad_peliculas} películas, una ganancia total de {ganancia_total} y una ganancia promedio de {ganancia_promedio}\"\n"
   ]
  },
  {
   "cell_type": "code",
   "execution_count": 41,
   "metadata": {},
   "outputs": [],
   "source": [
    "@app.get('/peliculas_idioma')\n",
    "def peliculas_idioma(idioma: str):\n",
    "    cantidad_peliculas = sum(1 for _, pelicula in df.iterrows() if isinstance(pelicula[\"spoken_languages\"], str) and idioma in pelicula[\"spoken_languages\"])\n",
    "    return f\"{cantidad_peliculas} cantidad de películas fueron estrenadas en {idioma}\"\n",
    "\n",
    "\n"
   ]
  },
  {
   "cell_type": "code",
   "execution_count": 30,
   "metadata": {},
   "outputs": [],
   "source": [
    "@app.get('/peliculas_pais')\n",
    "def peliculas_pais(pais: str):\n",
    "    cantidad_peliculas = sum(1 for index, pelicula in df.iterrows() if isinstance(pelicula[\"production_countries\"], str) and pais in pelicula[\"production_countries\"].split(\",\"))\n",
    "    return f\"Se produjeron {cantidad_peliculas} películas en el país {pais}\"\n",
    "\n",
    "\n"
   ]
  },
  {
   "cell_type": "code",
   "execution_count": 24,
   "metadata": {},
   "outputs": [],
   "source": [
    "@app.get('/productoras_exitosas')\n",
    "def productoras_exitosas(productora: str):\n",
    "    peliculas_productora = df[df[\"production_companies\"].str.contains(productora, na=False)]\n",
    "    cantidad_peliculas = len(peliculas_productora)\n",
    "    revenue_total = peliculas_productora[\"revenue\"].sum()\n",
    "    return f\"La productora {productora} ha tenido un revenue de {revenue_total} y ha realizado {cantidad_peliculas} películas\"\n"
   ]
  },
  {
   "cell_type": "code",
   "execution_count": 10,
   "metadata": {},
   "outputs": [
    {
     "ename": "RuntimeError",
     "evalue": "asyncio.run() cannot be called from a running event loop",
     "output_type": "error",
     "traceback": [
      "\u001b[1;31m---------------------------------------------------------------------------\u001b[0m",
      "\u001b[1;31mRuntimeError\u001b[0m                              Traceback (most recent call last)",
      "Cell \u001b[1;32mIn[10], line 29\u001b[0m\n\u001b[0;32m     26\u001b[0m     \u001b[39mreturn\u001b[39;00m recomendaciones\n\u001b[0;32m     28\u001b[0m \u001b[39mif\u001b[39;00m \u001b[39m__name__\u001b[39m \u001b[39m==\u001b[39m \u001b[39m'\u001b[39m\u001b[39m__main__\u001b[39m\u001b[39m'\u001b[39m:\n\u001b[1;32m---> 29\u001b[0m     uvicorn\u001b[39m.\u001b[39;49mrun(app, host\u001b[39m=\u001b[39;49m\u001b[39m'\u001b[39;49m\u001b[39m0.0.0.0\u001b[39;49m\u001b[39m'\u001b[39;49m, port\u001b[39m=\u001b[39;49m\u001b[39m8000\u001b[39;49m)\n",
      "File \u001b[1;32mc:\\Users\\Equipo\\AppData\\Local\\Programs\\Python\\Python310\\lib\\site-packages\\uvicorn\\main.py:578\u001b[0m, in \u001b[0;36mrun\u001b[1;34m(app, host, port, uds, fd, loop, http, ws, ws_max_size, ws_ping_interval, ws_ping_timeout, ws_per_message_deflate, lifespan, interface, reload, reload_dirs, reload_includes, reload_excludes, reload_delay, workers, env_file, log_config, log_level, access_log, proxy_headers, server_header, date_header, forwarded_allow_ips, root_path, limit_concurrency, backlog, limit_max_requests, timeout_keep_alive, timeout_graceful_shutdown, ssl_keyfile, ssl_certfile, ssl_keyfile_password, ssl_version, ssl_cert_reqs, ssl_ca_certs, ssl_ciphers, headers, use_colors, app_dir, factory, h11_max_incomplete_event_size)\u001b[0m\n\u001b[0;32m    576\u001b[0m     Multiprocess(config, target\u001b[39m=\u001b[39mserver\u001b[39m.\u001b[39mrun, sockets\u001b[39m=\u001b[39m[sock])\u001b[39m.\u001b[39mrun()\n\u001b[0;32m    577\u001b[0m \u001b[39melse\u001b[39;00m:\n\u001b[1;32m--> 578\u001b[0m     server\u001b[39m.\u001b[39;49mrun()\n\u001b[0;32m    579\u001b[0m \u001b[39mif\u001b[39;00m config\u001b[39m.\u001b[39muds \u001b[39mand\u001b[39;00m os\u001b[39m.\u001b[39mpath\u001b[39m.\u001b[39mexists(config\u001b[39m.\u001b[39muds):\n\u001b[0;32m    580\u001b[0m     os\u001b[39m.\u001b[39mremove(config\u001b[39m.\u001b[39muds)  \u001b[39m# pragma: py-win32\u001b[39;00m\n",
      "File \u001b[1;32mc:\\Users\\Equipo\\AppData\\Local\\Programs\\Python\\Python310\\lib\\site-packages\\uvicorn\\server.py:61\u001b[0m, in \u001b[0;36mServer.run\u001b[1;34m(self, sockets)\u001b[0m\n\u001b[0;32m     59\u001b[0m \u001b[39mdef\u001b[39;00m \u001b[39mrun\u001b[39m(\u001b[39mself\u001b[39m, sockets: Optional[List[socket\u001b[39m.\u001b[39msocket]] \u001b[39m=\u001b[39m \u001b[39mNone\u001b[39;00m) \u001b[39m-\u001b[39m\u001b[39m>\u001b[39m \u001b[39mNone\u001b[39;00m:\n\u001b[0;32m     60\u001b[0m     \u001b[39mself\u001b[39m\u001b[39m.\u001b[39mconfig\u001b[39m.\u001b[39msetup_event_loop()\n\u001b[1;32m---> 61\u001b[0m     \u001b[39mreturn\u001b[39;00m asyncio\u001b[39m.\u001b[39;49mrun(\u001b[39mself\u001b[39;49m\u001b[39m.\u001b[39;49mserve(sockets\u001b[39m=\u001b[39;49msockets))\n",
      "File \u001b[1;32mc:\\Users\\Equipo\\AppData\\Local\\Programs\\Python\\Python310\\lib\\asyncio\\runners.py:33\u001b[0m, in \u001b[0;36mrun\u001b[1;34m(main, debug)\u001b[0m\n\u001b[0;32m      9\u001b[0m \u001b[39m\u001b[39m\u001b[39m\"\"\"Execute the coroutine and return the result.\u001b[39;00m\n\u001b[0;32m     10\u001b[0m \n\u001b[0;32m     11\u001b[0m \u001b[39mThis function runs the passed coroutine, taking care of\u001b[39;00m\n\u001b[1;32m   (...)\u001b[0m\n\u001b[0;32m     30\u001b[0m \u001b[39m    asyncio.run(main())\u001b[39;00m\n\u001b[0;32m     31\u001b[0m \u001b[39m\"\"\"\u001b[39;00m\n\u001b[0;32m     32\u001b[0m \u001b[39mif\u001b[39;00m events\u001b[39m.\u001b[39m_get_running_loop() \u001b[39mis\u001b[39;00m \u001b[39mnot\u001b[39;00m \u001b[39mNone\u001b[39;00m:\n\u001b[1;32m---> 33\u001b[0m     \u001b[39mraise\u001b[39;00m \u001b[39mRuntimeError\u001b[39;00m(\n\u001b[0;32m     34\u001b[0m         \u001b[39m\"\u001b[39m\u001b[39masyncio.run() cannot be called from a running event loop\u001b[39m\u001b[39m\"\u001b[39m)\n\u001b[0;32m     36\u001b[0m \u001b[39mif\u001b[39;00m \u001b[39mnot\u001b[39;00m coroutines\u001b[39m.\u001b[39miscoroutine(main):\n\u001b[0;32m     37\u001b[0m     \u001b[39mraise\u001b[39;00m \u001b[39mValueError\u001b[39;00m(\u001b[39m\"\u001b[39m\u001b[39ma coroutine was expected, got \u001b[39m\u001b[39m{!r}\u001b[39;00m\u001b[39m\"\u001b[39m\u001b[39m.\u001b[39mformat(main))\n",
      "\u001b[1;31mRuntimeError\u001b[0m: asyncio.run() cannot be called from a running event loop"
     ]
    }
   ],
   "source": [
    "from fastapi import FastAPI\n",
    "import uvicorn\n",
    "\n",
    "app = FastAPI()\n",
    "\n",
    "@app.get('/recomendacion')\n",
    "async def recomendacion(titulo: str):\n",
    "    # Convertir el título proporcionado a minúsculas\n",
    "    titulo = titulo.lower()\n",
    "\n",
    "    # Obtener la fila correspondiente al título proporcionado\n",
    "    pelicula = df.loc[df['title'].str.lower() == titulo]\n",
    "\n",
    "    if pelicula.empty:\n",
    "        return []\n",
    "\n",
    "    # Obtener la puntuación de la película\n",
    "    puntuacion = pelicula['vote_average'].values[0]\n",
    "\n",
    "    # Encontrar películas similares según la puntuación\n",
    "    peliculas_similares = df.loc[df['vote_average'] >= puntuacion].sort_values('vote_average', ascending=False)\n",
    "\n",
    "    # Obtener los títulos de las 5 películas con puntuacion mas similar\n",
    "    recomendaciones = peliculas_similares['title'].head(5).tolist()\n",
    "\n",
    "    return recomendaciones\n",
    "\n",
    "if __name__ == '__main__':\n",
    "    uvicorn.run(app, host='0.0.0.0', port=8000)\n"
   ]
  },
  {
   "cell_type": "code",
   "execution_count": 54,
   "metadata": {},
   "outputs": [],
   "source": [
    "#Ultimo push para guardar el dataset listo\n",
    "df.to_csv('Csv_Proyecto_Terminado.csv', index=False)"
   ]
  }
 ],
 "metadata": {
  "kernelspec": {
   "display_name": "Python 3",
   "language": "python",
   "name": "python3"
  },
  "language_info": {
   "codemirror_mode": {
    "name": "ipython",
    "version": 3
   },
   "file_extension": ".py",
   "mimetype": "text/x-python",
   "name": "python",
   "nbconvert_exporter": "python",
   "pygments_lexer": "ipython3",
   "version": "3.10.4"
  },
  "orig_nbformat": 4
 },
 "nbformat": 4,
 "nbformat_minor": 2
}
